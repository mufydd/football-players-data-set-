{
 "cells": [
  {
   "cell_type": "code",
   "execution_count": 1,
   "metadata": {},
   "outputs": [
    {
     "name": "stdout",
     "output_type": "stream",
     "text": [
      "/kaggle/input\\football-players-datasets-2015-2024\\Latest Football  Players 2024 Data.csv\n"
     ]
    }
   ],
   "source": [
    "# This Python 3 environment comes with many helpful analytics libraries installed\n",
    "# It is defined by the kaggle/python Docker image: https://github.com/kaggle/docker-python\n",
    "# For example, here's several helpful packages to load\n",
    "\n",
    "import numpy as np # linear algebra\n",
    "import pandas as pd # data processing, CSV file I/O (e.g. pd.read_csv)\n",
    "\n",
    "# Input data files are available in the read-only \"../input/\" directory\n",
    "# For example, running this (by clicking run or pressing Shift+Enter) will list all files under the input directory\n",
    "\n",
    "import os\n",
    "for dirname, _, filenames in os.walk('/kaggle/input'):\n",
    "    for filename in filenames:\n",
    "        print(os.path.join(dirname, filename))\n",
    "\n",
    "# You can write up to 20GB to the current directory (/kaggle/working/) that gets preserved as output when you create a version using \"Save & Run All\" \n",
    "# You can also write temporary files to /kaggle/temp/, but they won't be saved outside of the current session"
   ]
  },
  {
   "cell_type": "code",
   "execution_count": 2,
   "metadata": {},
   "outputs": [],
   "source": [
    "import pandas as pd\n",
    "import numpy as np\n",
    "import matplotlib.pyplot as plt\n",
    "import seaborn as sns\n",
    "%matplotlib inline"
   ]
  },
  {
   "cell_type": "code",
   "execution_count": 3,
   "metadata": {},
   "outputs": [],
   "source": [
    "df = pd.read_csv('/kaggle/input/football-players-datasets-2015-2024/Latest Football  Players 2024 Data.csv')"
   ]
  },
  {
   "cell_type": "code",
   "execution_count": 4,
   "metadata": {},
   "outputs": [
    {
     "data": {
      "text/html": [
       "<div>\n",
       "<style scoped>\n",
       "    .dataframe tbody tr th:only-of-type {\n",
       "        vertical-align: middle;\n",
       "    }\n",
       "\n",
       "    .dataframe tbody tr th {\n",
       "        vertical-align: top;\n",
       "    }\n",
       "\n",
       "    .dataframe thead th {\n",
       "        text-align: right;\n",
       "    }\n",
       "</style>\n",
       "<table border=\"1\" class=\"dataframe\">\n",
       "  <thead>\n",
       "    <tr style=\"text-align: right;\">\n",
       "      <th></th>\n",
       "      <th>Teams</th>\n",
       "      <th>Seasons</th>\n",
       "      <th>Players</th>\n",
       "      <th>Matches</th>\n",
       "      <th>Goals</th>\n",
       "      <th>Assists</th>\n",
       "      <th>Seasons Ratings</th>\n",
       "    </tr>\n",
       "  </thead>\n",
       "  <tbody>\n",
       "    <tr>\n",
       "      <th>0</th>\n",
       "      <td>InterMiami</td>\n",
       "      <td>2024</td>\n",
       "      <td>Lionel Messi</td>\n",
       "      <td>15</td>\n",
       "      <td>14</td>\n",
       "      <td>11</td>\n",
       "      <td>8.5</td>\n",
       "    </tr>\n",
       "    <tr>\n",
       "      <th>1</th>\n",
       "      <td>InterMiami</td>\n",
       "      <td>2023</td>\n",
       "      <td>Lionel Messi</td>\n",
       "      <td>14</td>\n",
       "      <td>11</td>\n",
       "      <td>5</td>\n",
       "      <td>8.0</td>\n",
       "    </tr>\n",
       "    <tr>\n",
       "      <th>2</th>\n",
       "      <td>PSG</td>\n",
       "      <td>2022/2023</td>\n",
       "      <td>Lionel Messi</td>\n",
       "      <td>41</td>\n",
       "      <td>21</td>\n",
       "      <td>20</td>\n",
       "      <td>8.1</td>\n",
       "    </tr>\n",
       "    <tr>\n",
       "      <th>3</th>\n",
       "      <td>PSG</td>\n",
       "      <td>2021/2022</td>\n",
       "      <td>Lionel Messi</td>\n",
       "      <td>34</td>\n",
       "      <td>11</td>\n",
       "      <td>14</td>\n",
       "      <td>7.9</td>\n",
       "    </tr>\n",
       "    <tr>\n",
       "      <th>4</th>\n",
       "      <td>Barcelona</td>\n",
       "      <td>2020/2021</td>\n",
       "      <td>Lionel Messi</td>\n",
       "      <td>47</td>\n",
       "      <td>38</td>\n",
       "      <td>12</td>\n",
       "      <td>8.4</td>\n",
       "    </tr>\n",
       "  </tbody>\n",
       "</table>\n",
       "</div>"
      ],
      "text/plain": [
       "        Teams    Seasons       Players  Matches  Goals  Assists  \\\n",
       "0  InterMiami       2024  Lionel Messi       15     14       11   \n",
       "1  InterMiami       2023  Lionel Messi       14     11        5   \n",
       "2         PSG  2022/2023  Lionel Messi       41     21       20   \n",
       "3         PSG  2021/2022  Lionel Messi       34     11       14   \n",
       "4   Barcelona  2020/2021  Lionel Messi       47     38       12   \n",
       "\n",
       "   Seasons Ratings  \n",
       "0              8.5  \n",
       "1              8.0  \n",
       "2              8.1  \n",
       "3              7.9  \n",
       "4              8.4  "
      ]
     },
     "execution_count": 4,
     "metadata": {},
     "output_type": "execute_result"
    }
   ],
   "source": [
    "df.head()"
   ]
  },
  {
   "cell_type": "code",
   "execution_count": 5,
   "metadata": {},
   "outputs": [
    {
     "data": {
      "text/html": [
       "<div>\n",
       "<style scoped>\n",
       "    .dataframe tbody tr th:only-of-type {\n",
       "        vertical-align: middle;\n",
       "    }\n",
       "\n",
       "    .dataframe tbody tr th {\n",
       "        vertical-align: top;\n",
       "    }\n",
       "\n",
       "    .dataframe thead th {\n",
       "        text-align: right;\n",
       "    }\n",
       "</style>\n",
       "<table border=\"1\" class=\"dataframe\">\n",
       "  <thead>\n",
       "    <tr style=\"text-align: right;\">\n",
       "      <th></th>\n",
       "      <th>Teams</th>\n",
       "      <th>Seasons</th>\n",
       "      <th>Players</th>\n",
       "      <th>Matches</th>\n",
       "      <th>Goals</th>\n",
       "      <th>Assists</th>\n",
       "      <th>Seasons Ratings</th>\n",
       "    </tr>\n",
       "  </thead>\n",
       "  <tbody>\n",
       "    <tr>\n",
       "      <th>1211</th>\n",
       "      <td>Real Sociedad</td>\n",
       "      <td>2020/2021</td>\n",
       "      <td>Mikel Oyarzabal</td>\n",
       "      <td>43</td>\n",
       "      <td>13</td>\n",
       "      <td>10</td>\n",
       "      <td>7.1</td>\n",
       "    </tr>\n",
       "    <tr>\n",
       "      <th>1212</th>\n",
       "      <td>Real Sociedad</td>\n",
       "      <td>2019/2020</td>\n",
       "      <td>Mikel Oyarzabal</td>\n",
       "      <td>45</td>\n",
       "      <td>13</td>\n",
       "      <td>13</td>\n",
       "      <td>7.1</td>\n",
       "    </tr>\n",
       "    <tr>\n",
       "      <th>1213</th>\n",
       "      <td>Real Sociedad</td>\n",
       "      <td>2018/2019</td>\n",
       "      <td>Mikel Oyarzabal</td>\n",
       "      <td>41</td>\n",
       "      <td>14</td>\n",
       "      <td>2</td>\n",
       "      <td>6.7</td>\n",
       "    </tr>\n",
       "    <tr>\n",
       "      <th>1214</th>\n",
       "      <td>Real Sociedad</td>\n",
       "      <td>2017/2018</td>\n",
       "      <td>Mikel Oyarzabal</td>\n",
       "      <td>43</td>\n",
       "      <td>14</td>\n",
       "      <td>6</td>\n",
       "      <td>7.0</td>\n",
       "    </tr>\n",
       "    <tr>\n",
       "      <th>1215</th>\n",
       "      <td>Real Sociedad</td>\n",
       "      <td>2016/2017</td>\n",
       "      <td>Mikel Oyarzabal</td>\n",
       "      <td>43</td>\n",
       "      <td>4</td>\n",
       "      <td>8</td>\n",
       "      <td>6.6</td>\n",
       "    </tr>\n",
       "  </tbody>\n",
       "</table>\n",
       "</div>"
      ],
      "text/plain": [
       "              Teams    Seasons           Players  Matches  Goals  Assists  \\\n",
       "1211  Real Sociedad  2020/2021  Mikel Oyarzabal        43     13       10   \n",
       "1212  Real Sociedad  2019/2020  Mikel Oyarzabal        45     13       13   \n",
       "1213  Real Sociedad  2018/2019  Mikel Oyarzabal        41     14        2   \n",
       "1214  Real Sociedad  2017/2018  Mikel Oyarzabal        43     14        6   \n",
       "1215  Real Sociedad  2016/2017  Mikel Oyarzabal        43      4        8   \n",
       "\n",
       "      Seasons Ratings  \n",
       "1211              7.1  \n",
       "1212              7.1  \n",
       "1213              6.7  \n",
       "1214              7.0  \n",
       "1215              6.6  "
      ]
     },
     "execution_count": 5,
     "metadata": {},
     "output_type": "execute_result"
    }
   ],
   "source": [
    "df.tail()"
   ]
  },
  {
   "cell_type": "code",
   "execution_count": 6,
   "metadata": {},
   "outputs": [
    {
     "data": {
      "text/html": [
       "<div>\n",
       "<style scoped>\n",
       "    .dataframe tbody tr th:only-of-type {\n",
       "        vertical-align: middle;\n",
       "    }\n",
       "\n",
       "    .dataframe tbody tr th {\n",
       "        vertical-align: top;\n",
       "    }\n",
       "\n",
       "    .dataframe thead th {\n",
       "        text-align: right;\n",
       "    }\n",
       "</style>\n",
       "<table border=\"1\" class=\"dataframe\">\n",
       "  <thead>\n",
       "    <tr style=\"text-align: right;\">\n",
       "      <th></th>\n",
       "      <th>Matches</th>\n",
       "      <th>Goals</th>\n",
       "      <th>Assists</th>\n",
       "      <th>Seasons Ratings</th>\n",
       "    </tr>\n",
       "  </thead>\n",
       "  <tbody>\n",
       "    <tr>\n",
       "      <th>count</th>\n",
       "      <td>1216.000000</td>\n",
       "      <td>1216.000000</td>\n",
       "      <td>1216.000000</td>\n",
       "      <td>1216.000000</td>\n",
       "    </tr>\n",
       "    <tr>\n",
       "      <th>mean</th>\n",
       "      <td>37.024671</td>\n",
       "      <td>8.059211</td>\n",
       "      <td>4.797697</td>\n",
       "      <td>7.111595</td>\n",
       "    </tr>\n",
       "    <tr>\n",
       "      <th>std</th>\n",
       "      <td>11.762088</td>\n",
       "      <td>9.351558</td>\n",
       "      <td>4.496019</td>\n",
       "      <td>0.410907</td>\n",
       "    </tr>\n",
       "    <tr>\n",
       "      <th>min</th>\n",
       "      <td>1.000000</td>\n",
       "      <td>0.000000</td>\n",
       "      <td>0.000000</td>\n",
       "      <td>5.100000</td>\n",
       "    </tr>\n",
       "    <tr>\n",
       "      <th>25%</th>\n",
       "      <td>31.000000</td>\n",
       "      <td>2.000000</td>\n",
       "      <td>1.000000</td>\n",
       "      <td>6.900000</td>\n",
       "    </tr>\n",
       "    <tr>\n",
       "      <th>50%</th>\n",
       "      <td>39.000000</td>\n",
       "      <td>4.000000</td>\n",
       "      <td>4.000000</td>\n",
       "      <td>7.100000</td>\n",
       "    </tr>\n",
       "    <tr>\n",
       "      <th>75%</th>\n",
       "      <td>46.000000</td>\n",
       "      <td>12.000000</td>\n",
       "      <td>7.000000</td>\n",
       "      <td>7.300000</td>\n",
       "    </tr>\n",
       "    <tr>\n",
       "      <th>max</th>\n",
       "      <td>59.000000</td>\n",
       "      <td>55.000000</td>\n",
       "      <td>25.000000</td>\n",
       "      <td>8.900000</td>\n",
       "    </tr>\n",
       "  </tbody>\n",
       "</table>\n",
       "</div>"
      ],
      "text/plain": [
       "           Matches        Goals      Assists  Seasons Ratings\n",
       "count  1216.000000  1216.000000  1216.000000      1216.000000\n",
       "mean     37.024671     8.059211     4.797697         7.111595\n",
       "std      11.762088     9.351558     4.496019         0.410907\n",
       "min       1.000000     0.000000     0.000000         5.100000\n",
       "25%      31.000000     2.000000     1.000000         6.900000\n",
       "50%      39.000000     4.000000     4.000000         7.100000\n",
       "75%      46.000000    12.000000     7.000000         7.300000\n",
       "max      59.000000    55.000000    25.000000         8.900000"
      ]
     },
     "execution_count": 6,
     "metadata": {},
     "output_type": "execute_result"
    }
   ],
   "source": [
    "df.describe()"
   ]
  },
  {
   "cell_type": "code",
   "execution_count": 7,
   "metadata": {},
   "outputs": [
    {
     "name": "stdout",
     "output_type": "stream",
     "text": [
      "<class 'pandas.core.frame.DataFrame'>\n",
      "RangeIndex: 1216 entries, 0 to 1215\n",
      "Data columns (total 7 columns):\n",
      " #   Column           Non-Null Count  Dtype  \n",
      "---  ------           --------------  -----  \n",
      " 0   Teams            1216 non-null   object \n",
      " 1   Seasons          1216 non-null   object \n",
      " 2   Players          1216 non-null   object \n",
      " 3   Matches          1216 non-null   int64  \n",
      " 4   Goals            1216 non-null   int64  \n",
      " 5   Assists          1216 non-null   int64  \n",
      " 6   Seasons Ratings  1216 non-null   float64\n",
      "dtypes: float64(1), int64(3), object(3)\n",
      "memory usage: 66.6+ KB\n"
     ]
    }
   ],
   "source": [
    "df.info()"
   ]
  },
  {
   "cell_type": "code",
   "execution_count": 8,
   "metadata": {},
   "outputs": [
    {
     "data": {
      "image/png": "[encoded data removed]",
      "text/plain": [
       "<Figure size 640x480 with 1 Axes>"
      ]
     },
     "metadata": {},
     "output_type": "display_data"
    }
   ],
   "source": [
    "plt.hist(df['Goals'], bins=20, edgecolor='red')\n",
    "plt.title('Distribution of Players Goals')\n",
    "plt.xlabel('Goals')\n",
    "plt.ylabel('Number of Players')\n",
    "plt.show()"
   ]
  },
  {
   "cell_type": "code",
   "execution_count": 9,
   "metadata": {},
   "outputs": [
    {
     "data": {
      "image/png": "[encoded data removed]",
      "text/plain": [
       "<Figure size 640x480 with 1 Axes>"
      ]
     },
     "metadata": {},
     "output_type": "display_data"
    }
   ],
   "source": [
    "sns.boxplot(x=df['Seasons Ratings'])\n",
    "plt.title('Distribution of Seasons Ratings')\n",
    "plt.xlabel('Seasons Ratings')\n",
    "plt.show()"
   ]
  },
  {
   "cell_type": "code",
   "execution_count": 10,
   "metadata": {},
   "outputs": [
    {
     "data": {
      "image/png": "[encoded data removed]",
      "text/plain": [
       "<Figure size 640x480 with 1 Axes>"
      ]
     },
     "metadata": {},
     "output_type": "display_data"
    }
   ],
   "source": [
    "sns.scatterplot(x='Goals', y='Assists', data=df)\n",
    "plt.title('Goals vs Assists')\n",
    "plt.xlabel('Assists')\n",
    "plt.ylabel('Goals')\n",
    "plt.show()"
   ]
  },
  {
   "cell_type": "code",
   "execution_count": null,
   "metadata": {},
   "outputs": [],
   "source": []
  }
 ],
 "metadata": {
  "kernelspec": {
   "display_name": "Python 3 (ipykernel)",
   "language": "python",
   "name": "python3"
  },
  "language_info": {
   "codemirror_mode": {
    "name": "ipython",
    "version": 3
   },
   "file_extension": ".py",
   "mimetype": "text/x-python",
   "name": "python",
   "nbconvert_exporter": "python",
   "pygments_lexer": "ipython3",
   "version": "3.11.5"
  }
 },
 "nbformat": 4,
 "nbformat_minor": 2
}
